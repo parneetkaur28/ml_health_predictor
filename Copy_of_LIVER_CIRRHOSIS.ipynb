{
  "cells": [
    {
      "cell_type": "code",
      "execution_count": 2,
      "metadata": {
        "id": "DXndhKDdgKmD"
      },
      "outputs": [],
      "source": [
        "import pandas as pd\n",
        "import numpy as np\n",
        "import matplotlib.pyplot as plt\n",
        "%matplotlib inline\n",
        "from sklearn.model_selection import train_test_split\n",
        "\n",
        "#model validation\n",
        "from sklearn.metrics import log_loss,roc_auc_score,precision_score,f1_score,recall_score,roc_curve,auc\n",
        "from sklearn.metrics import classification_report, confusion_matrix,accuracy_score,fbeta_score,matthews_corrcoef\n",
        "from sklearn import metrics\n",
        "\n",
        "# cross validation\n",
        "from sklearn.model_selection import StratifiedKFold\n",
        "from sklearn.ensemble import RandomForestClassifier,VotingClassifier,AdaBoostClassifier,GradientBoostingClassifier,ExtraTreesClassifier\n",
        "from sklearn.neural_network import MLPClassifier"
      ]
    },
    {
      "cell_type": "code",
      "execution_count": 5,
      "metadata": {
        "id": "g_jJlUrygQ1l"
      },
      "outputs": [
        {
          "data": {
            "text/html": [
              "<div>\n",
              "<style scoped>\n",
              "    .dataframe tbody tr th:only-of-type {\n",
              "        vertical-align: middle;\n",
              "    }\n",
              "\n",
              "    .dataframe tbody tr th {\n",
              "        vertical-align: top;\n",
              "    }\n",
              "\n",
              "    .dataframe thead th {\n",
              "        text-align: right;\n",
              "    }\n",
              "</style>\n",
              "<table border=\"1\" class=\"dataframe\">\n",
              "  <thead>\n",
              "    <tr style=\"text-align: right;\">\n",
              "      <th></th>\n",
              "      <th>AGE</th>\n",
              "      <th>GENDER</th>\n",
              "      <th>TB(Total Bilirubin)</th>\n",
              "      <th>DB(Direct Bilirubin)</th>\n",
              "      <th>Alkphos Alkaline Phosphotase</th>\n",
              "      <th>Sgpt  Alamine Aminotransferase</th>\n",
              "      <th>Sgot Aspartate Aminotransferase</th>\n",
              "      <th>TP Total Protiens</th>\n",
              "      <th>ALB Albumin</th>\n",
              "      <th>A/G Ratio Albumin and Globulin Ratio</th>\n",
              "      <th>Selector field used to split the data into two sets (labeled by the experts)</th>\n",
              "    </tr>\n",
              "  </thead>\n",
              "  <tbody>\n",
              "    <tr>\n",
              "      <th>0</th>\n",
              "      <td>4</td>\n",
              "      <td>Male</td>\n",
              "      <td>0.9</td>\n",
              "      <td>0.2</td>\n",
              "      <td>348</td>\n",
              "      <td>30</td>\n",
              "      <td>34</td>\n",
              "      <td>8.0</td>\n",
              "      <td>4.0</td>\n",
              "      <td>1.0</td>\n",
              "      <td>2</td>\n",
              "    </tr>\n",
              "    <tr>\n",
              "      <th>1</th>\n",
              "      <td>4</td>\n",
              "      <td>Male</td>\n",
              "      <td>0.8</td>\n",
              "      <td>0.2</td>\n",
              "      <td>460</td>\n",
              "      <td>152</td>\n",
              "      <td>231</td>\n",
              "      <td>6.5</td>\n",
              "      <td>3.2</td>\n",
              "      <td>0.9</td>\n",
              "      <td>2</td>\n",
              "    </tr>\n",
              "    <tr>\n",
              "      <th>2</th>\n",
              "      <td>6</td>\n",
              "      <td>Male</td>\n",
              "      <td>0.6</td>\n",
              "      <td>0.1</td>\n",
              "      <td>289</td>\n",
              "      <td>38</td>\n",
              "      <td>30</td>\n",
              "      <td>4.8</td>\n",
              "      <td>2.0</td>\n",
              "      <td>0.7</td>\n",
              "      <td>2</td>\n",
              "    </tr>\n",
              "    <tr>\n",
              "      <th>3</th>\n",
              "      <td>7</td>\n",
              "      <td>Female</td>\n",
              "      <td>27.2</td>\n",
              "      <td>11.8</td>\n",
              "      <td>1420</td>\n",
              "      <td>790</td>\n",
              "      <td>1050</td>\n",
              "      <td>6.1</td>\n",
              "      <td>2.0</td>\n",
              "      <td>0.4</td>\n",
              "      <td>1</td>\n",
              "    </tr>\n",
              "    <tr>\n",
              "      <th>4</th>\n",
              "      <td>7</td>\n",
              "      <td>Male</td>\n",
              "      <td>0.5</td>\n",
              "      <td>0.1</td>\n",
              "      <td>352</td>\n",
              "      <td>28</td>\n",
              "      <td>51</td>\n",
              "      <td>7.9</td>\n",
              "      <td>4.2</td>\n",
              "      <td>1.1</td>\n",
              "      <td>2</td>\n",
              "    </tr>\n",
              "  </tbody>\n",
              "</table>\n",
              "</div>"
            ],
            "text/plain": [
              "   AGE  GENDER  TB(Total Bilirubin)  DB(Direct Bilirubin)  \\\n",
              "0    4    Male                  0.9                   0.2   \n",
              "1    4    Male                  0.8                   0.2   \n",
              "2    6    Male                  0.6                   0.1   \n",
              "3    7  Female                 27.2                  11.8   \n",
              "4    7    Male                  0.5                   0.1   \n",
              "\n",
              "   Alkphos Alkaline Phosphotase  Sgpt  Alamine Aminotransferase  \\\n",
              "0                           348                              30   \n",
              "1                           460                             152   \n",
              "2                           289                              38   \n",
              "3                          1420                             790   \n",
              "4                           352                              28   \n",
              "\n",
              "   Sgot Aspartate Aminotransferase  TP Total Protiens  ALB Albumin  \\\n",
              "0                               34                8.0          4.0   \n",
              "1                              231                6.5          3.2   \n",
              "2                               30                4.8          2.0   \n",
              "3                             1050                6.1          2.0   \n",
              "4                               51                7.9          4.2   \n",
              "\n",
              "   A/G Ratio Albumin and Globulin Ratio  \\\n",
              "0                                   1.0   \n",
              "1                                   0.9   \n",
              "2                                   0.7   \n",
              "3                                   0.4   \n",
              "4                                   1.1   \n",
              "\n",
              "   Selector field used to split the data into two sets (labeled by the experts)  \n",
              "0                                                  2                             \n",
              "1                                                  2                             \n",
              "2                                                  2                             \n",
              "3                                                  1                             \n",
              "4                                                  2                             "
            ]
          },
          "execution_count": 5,
          "metadata": {},
          "output_type": "execute_result"
        }
      ],
      "source": [
        "df = pd.read_csv(r\"C:\\Users\\Administrator\\Desktop\\streamlit app\\Liver cirrhosis UCI Dataset.csv\")\n",
        "df.head()"
      ]
    },
    {
      "cell_type": "code",
      "execution_count": 6,
      "metadata": {
        "colab": {
          "base_uri": "https://localhost:8080/"
        },
        "id": "uag4JqPqgpdg",
        "outputId": "da7a0f22-623c-40a0-bfff-71ff8cab3372"
      },
      "outputs": [
        {
          "data": {
            "text/plain": [
              "AGE                                                                               int64\n",
              "GENDER                                                                           object\n",
              "TB(Total Bilirubin)                                                             float64\n",
              "DB(Direct Bilirubin)                                                            float64\n",
              "Alkphos Alkaline Phosphotase                                                      int64\n",
              "Sgpt  Alamine Aminotransferase                                                    int64\n",
              "Sgot Aspartate Aminotransferase                                                   int64\n",
              "TP Total Protiens                                                               float64\n",
              "ALB Albumin                                                                     float64\n",
              "A/G Ratio Albumin and Globulin Ratio                                            float64\n",
              "Selector field used to split the data into two sets (labeled by the experts)      int64\n",
              "dtype: object"
            ]
          },
          "execution_count": 6,
          "metadata": {},
          "output_type": "execute_result"
        }
      ],
      "source": [
        "df.dtypes"
      ]
    },
    {
      "cell_type": "code",
      "execution_count": 7,
      "metadata": {
        "colab": {
          "base_uri": "https://localhost:8080/",
          "height": 175
        },
        "id": "qjm7qA7AgvCn",
        "outputId": "06d9a9ca-99e3-45f6-94d4-a9e72249d7aa"
      },
      "outputs": [],
      "source": [
        "newdf=df.dropna(axis=0, how=\"any\")"
      ]
    },
    {
      "cell_type": "code",
      "execution_count": 8,
      "metadata": {
        "id": "z8zTIDcvgx48"
      },
      "outputs": [],
      "source": [
        "from sklearn.preprocessing import LabelEncoder, StandardScaler\n",
        "\n",
        "X = newdf.drop(['Selector field used to split the data into two sets (labeled by the experts)'],axis=1)\n",
        "\n",
        "\n",
        "# Perform label encoding for categorical variables (if any)\n",
        "categorical_cols = ['GENDER']  # Replace with the names of your categorical columns\n",
        "label_encoder = LabelEncoder()\n",
        "for col in categorical_cols:\n",
        "    X[col] = label_encoder.fit_transform(X[col])\n"
      ]
    },
    {
      "cell_type": "code",
      "execution_count": 9,
      "metadata": {
        "colab": {
          "base_uri": "https://localhost:8080/"
        },
        "id": "gWyXARH6b8vy",
        "outputId": "03386da4-3414-42da-97a5-82ae8830d5a5"
      },
      "outputs": [
        {
          "name": "stdout",
          "output_type": "stream",
          "text": [
            "          AGE  GENDER  TB(Total Bilirubin)  DB(Direct Bilirubin)  \\\n",
            "0    0.000000     1.0             0.006702              0.005102   \n",
            "1    0.000000     1.0             0.005362              0.005102   \n",
            "2    0.023256     1.0             0.002681              0.000000   \n",
            "3    0.034884     0.0             0.359249              0.596939   \n",
            "4    0.034884     1.0             0.001340              0.000000   \n",
            "..        ...     ...                  ...                   ...   \n",
            "574  0.825581     1.0             0.006702              0.005102   \n",
            "575  0.860465     1.0             0.008043              0.010204   \n",
            "576  0.930233     0.0             0.004021              0.005102   \n",
            "577  0.941860     0.0             0.008043              0.010204   \n",
            "578  1.000000     1.0             0.009383              0.010204   \n",
            "\n",
            "     Alkphos Alkaline Phosphotase  Sgpt  Alamine Aminotransferase  \\\n",
            "0                        0.139228                        0.010050   \n",
            "1                        0.193942                        0.071357   \n",
            "2                        0.110405                        0.014070   \n",
            "3                        0.662921                        0.391960   \n",
            "4                        0.141182                        0.009045   \n",
            "..                            ...                             ...   \n",
            "574                      0.048363                        0.007538   \n",
            "575                      0.043478                        0.009045   \n",
            "576                      0.061065                        0.001508   \n",
            "577                      0.070835                        0.003518   \n",
            "578                      0.074255                        0.018090   \n",
            "\n",
            "     Sgot Aspartate Aminotransferase  TP Total Protiens  ALB Albumin  \\\n",
            "0                           0.004879           0.768116     0.673913   \n",
            "1                           0.044928           0.550725     0.500000   \n",
            "2                           0.004066           0.304348     0.239130   \n",
            "3                           0.211425           0.492754     0.239130   \n",
            "4                           0.008335           0.753623     0.717391   \n",
            "..                               ...                ...          ...   \n",
            "574                         0.002033           0.608696     0.608696   \n",
            "575                         0.012198           0.521739     0.478261   \n",
            "576                         0.002236           0.478261     0.500000   \n",
            "577                         0.001016           0.623188     0.586957   \n",
            "578                         0.025208           0.608696     0.456522   \n",
            "\n",
            "     A/G Ratio Albumin and Globulin Ratio  Probability_of_Yes  \n",
            "0                                    0.28                 1.0  \n",
            "1                                    0.24                 1.0  \n",
            "2                                    0.16                 1.0  \n",
            "3                                    0.04                 0.0  \n",
            "4                                    0.32                 1.0  \n",
            "..                                    ...                 ...  \n",
            "574                                  0.32                 0.0  \n",
            "575                                  0.24                 0.0  \n",
            "576                                  0.32                 1.0  \n",
            "577                                  0.28                 1.0  \n",
            "578                                  0.16                 0.0  \n",
            "\n",
            "[579 rows x 11 columns]\n"
          ]
        }
      ],
      "source": [
        "from sklearn.preprocessing import LabelEncoder, MinMaxScaler\n",
        "import pandas as pd\n",
        "\n",
        "# Assuming you have your dataset stored in a Pandas DataFrame called \"df\" with features in X and the classification column in y\n",
        "\n",
        "# Extract the classification column\n",
        "classification = newdf['Selector field used to split the data into two sets (labeled by the experts)']\n",
        "\n",
        "# Apply label encoding to convert \"yes\" and \"no\" to numerical labels\n",
        "label_encoder = LabelEncoder()\n",
        "y_encoded = label_encoder.fit_transform(classification)\n",
        "\n",
        "# Scale the features using Min-Max scaling\n",
        "scaler = MinMaxScaler()\n",
        "X_scaled = scaler.fit_transform(X)\n",
        "\n",
        "# Convert the encoded classification column to probability values of \"yes\" in percentage\n",
        "class_probabilities = y_encoded / (y_encoded.max() - y_encoded.min())\n",
        "\n",
        "# Create a new DataFrame with scaled features and probability values\n",
        "df_scaled = pd.DataFrame(X_scaled, columns=X.columns)\n",
        "df_scaled['Probability_of_Yes'] = class_probabilities\n",
        "\n",
        "# Print the updated scaled dataset\n",
        "print(df_scaled)"
      ]
    },
    {
      "cell_type": "code",
      "execution_count": 10,
      "metadata": {
        "id": "3-r_CFsJgPAy"
      },
      "outputs": [],
      "source": [
        "y=df_scaled['Probability_of_Yes']\n",
        "X = df_scaled.drop(['Probability_of_Yes'], axis=1)"
      ]
    },
    {
      "cell_type": "code",
      "execution_count": 11,
      "metadata": {
        "colab": {
          "base_uri": "https://localhost:8080/"
        },
        "id": "4fKm5h2bKf1X",
        "outputId": "973e8929-b054-488f-9af0-a1dd5c14e691"
      },
      "outputs": [
        {
          "name": "stdout",
          "output_type": "stream",
          "text": [
            "Accuracy: 0.7758620689655172\n"
          ]
        }
      ],
      "source": [
        "from sklearn.model_selection import train_test_split, GridSearchCV\n",
        "from sklearn.linear_model import LogisticRegression\n",
        "from sklearn.preprocessing import PolynomialFeatures, StandardScaler\n",
        "from sklearn.pipeline import make_pipeline\n",
        "from sklearn.metrics import accuracy_score\n",
        "from sklearn.ensemble import StackingClassifier\n",
        "# Assuming you have your dataset stored in a Pandas DataFrame called \"df\" with the features in X and the target variable in y\n",
        "\n",
        "# Split the dataset into training and testing sets\n",
        "X_train, X_test, y_train, y_test = train_test_split(X, y, test_size=0.3, random_state=42)\n",
        "# Apply polynomial features\n",
        "poly = PolynomialFeatures(degree=1)\n",
        "X_train_poly = poly.fit_transform(X_train)\n",
        "X_test_poly = poly.transform(X_test)\n",
        "# Define the preprocessing pipeline\n",
        "preprocessing_pipeline = make_pipeline(\n",
        "    PolynomialFeatures(degree=1),\n",
        "   StandardScaler())\n",
        "# Apply preprocessing pipeline to training and testing sets\n",
        "X_train_preprocessed = preprocessing_pipeline.fit_transform(X_train_poly)\n",
        "X_test_preprocessed = preprocessing_pipeline.transform(X_test_poly)\n",
        "\n",
        "# Create and train the logistic regression model\n",
        "model = LogisticRegression(C=10,max_iter=10000,solver='liblinear')\n",
        "model.fit(X_train_preprocessed, y_train)\n",
        "#No use of applying feature selection and SMOTE\n",
        "# Predict the target variable on the testing set\n",
        "y_pred = model.predict(X_test_preprocessed)\n",
        "\n",
        "# Evaluate the model\n",
        "accuracy = accuracy_score(y_test, y_pred)\n",
        "print(\"Accuracy:\", accuracy)\n"
      ]
    },
    {
      "cell_type": "code",
      "execution_count": 12,
      "metadata": {
        "colab": {
          "base_uri": "https://localhost:8080/"
        },
        "id": "Qf5jZdIGn-9N",
        "outputId": "c6ee1463-25e2-4486-afc5-efdc3887f870"
      },
      "outputs": [
        {
          "name": "stdout",
          "output_type": "stream",
          "text": [
            "Accuracy: 0.7816091954022989\n"
          ]
        }
      ],
      "source": [
        "from sklearn.model_selection import train_test_split, GridSearchCV\n",
        "from sklearn.linear_model import LogisticRegression\n",
        "from sklearn.preprocessing import PolynomialFeatures, StandardScaler\n",
        "from sklearn.pipeline import make_pipeline\n",
        "from sklearn.metrics import accuracy_score\n",
        "from sklearn.ensemble import StackingClassifier\n",
        "from sklearn.svm import SVC\n",
        "from sklearn.ensemble import GradientBoostingClassifier\n",
        "from sklearn.tree import DecisionTreeClassifier\n",
        "\n",
        "# Assuming you have your dataset stored in a Pandas DataFrame called \"df\" with the features in X and the target variable in y\n",
        "\n",
        "# Split the dataset into training and testing sets\n",
        "X_train, X_test, y_train, y_test = train_test_split(X, y, test_size=0.3, random_state=42)\n",
        "\n",
        "# Apply polynomial features and feature scaling\n",
        "poly = PolynomialFeatures(degree=1)\n",
        "X_train_poly = poly.fit_transform(X_train)\n",
        "X_test_poly = poly.transform(X_test)\n",
        "\n",
        "scaler = StandardScaler()\n",
        "X_train_scaled = scaler.fit_transform(X_train_poly)\n",
        "X_test_scaled = scaler.transform(X_test_poly)\n",
        "\n",
        "# Define the logistic regression model\n",
        "model = LogisticRegression(C=1,max_iter=100000,solver='liblinear')\n",
        "# Define additional models for ensemble stacking\n",
        "svm_model = SVC(C=100,kernel='rbf')\n",
        "gb_model = GradientBoostingClassifier(max_depth=2,min_samples_split=4,min_samples_leaf=1,max_features='sqrt')\n",
        "dt_model = DecisionTreeClassifier(max_depth=2,min_samples_split=4,min_samples_leaf=1)\n",
        "# Define the stacking classifier\n",
        "stacking_model = StackingClassifier(\n",
        "    estimators=[('logistic', model), ('svm', svm_model), ('gb', gb_model), ('dt', dt_model)],\n",
        "    final_estimator=model\n",
        ")\n",
        "stacking_model.fit(X_train_scaled, y_train)\n",
        "y_pred = stacking_model.predict(X_test_scaled)\n",
        "accuracy = accuracy_score(y_test, y_pred)\n",
        "print(\"Accuracy:\", accuracy)\n"
      ]
    },
    {
      "cell_type": "code",
      "execution_count": null,
      "metadata": {
        "colab": {
          "base_uri": "https://localhost:8080/"
        },
        "id": "Mkir8hQygVFj",
        "outputId": "b5f23994-39b6-4a28-8555-a048cc2d16cc"
      },
      "outputs": [
        {
          "name": "stdout",
          "output_type": "stream",
          "text": [
            "Enter age: 22\n",
            "Enter gender (0 for female, 1 for male): 1\n",
            "Enter Total Bilirubin: 1\n",
            "Enter Direct Bilirubin: 1\n",
            "Enter Alkphos Alkaline Phosphotase: 1\n",
            "Enter Sgpt Alamine Aminotransferase: 1\n",
            "Enter Sgot Aspartate Aminotransferase: 1\n",
            "Enter TP Total Protiens: 1\n",
            "Enter ALB Albumin: 1\n",
            "Enter A/G Ratio Albumin and Globulin Ratio: 1\n",
            "Predicted Probability of Liver Cirrhosis: 0.12620090320759636\n",
            "If the value of predicted probability is less than 0.1204 then liver cirrhosis doesnt exists otherwise it does\n"
          ]
        },
        {
          "name": "stderr",
          "output_type": "stream",
          "text": [
            "/usr/local/lib/python3.10/dist-packages/sklearn/base.py:464: UserWarning: X does not have valid feature names, but PolynomialFeatures was fitted with feature names\n",
            "  warnings.warn(\n"
          ]
        }
      ],
      "source": [
        "import pandas as pd\n",
        "import numpy as np\n",
        "from sklearn.preprocessing import StandardScaler, PolynomialFeatures\n",
        "from sklearn.ensemble import StackingClassifier\n",
        "from sklearn.svm import SVC\n",
        "from sklearn.ensemble import GradientBoostingClassifier\n",
        "from sklearn.tree import DecisionTreeClassifier\n",
        "from sklearn.linear_model import LogisticRegression\n",
        "\n",
        "# Define a function to get user input and make predictions\n",
        "def predict_cirrhosis_probability():\n",
        " #defining the features of the dataset\n",
        "    age = float(input(\"Enter age: \"))\n",
        "    gender = int(input(\"Enter gender (0 for female, 1 for male): \"))\n",
        "    total_bilirubin = float(input(\"Enter Total Bilirubin: \"))\n",
        "    direct_bilirubin = float(input(\"Enter Direct Bilirubin: \"))\n",
        "    alkaline_phosphotase = int(input(\"Enter Alkphos Alkaline Phosphotase: \"))\n",
        "    alamine_aminotransferase = int(input(\"Enter Sgpt Alamine Aminotransferase: \"))\n",
        "    aspartate_aminotransferase = int(input(\"Enter Sgot Aspartate Aminotransferase: \"))\n",
        "    total_proteins = float(input(\"Enter TP Total Protiens: \"))\n",
        "    albumin = float(input(\"Enter ALB Albumin: \"))\n",
        "    albumin_globulin_ratio = float(input(\"Enter A/G Ratio Albumin and Globulin Ratio: \"))\n",
        "\n",
        "    # Preprocess the user input as done during training\n",
        "    user_input = np.array([[age, gender, total_bilirubin, direct_bilirubin, alkaline_phosphotase,\n",
        "                            alamine_aminotransferase, aspartate_aminotransferase, total_proteins,\n",
        "                            albumin, albumin_globulin_ratio]])\n",
        "        #['AGE','GENDER','TB(Total Bilirubin)','DB(Direct Bilirubin)','Alkphos Alkaline Phosphotase','Sgpt  Alamine Aminotransferase','Sgot Aspartate Aminotransferase','TP Total Protiens','ALB Albumin','A/G Ratio Albumin and Globulin Ratio'])\n",
        "    user_input_poly = poly.transform(user_input)\n",
        "    user_input_scaled = scaler.transform(user_input_poly)\n",
        "\n",
        "    # Use the trained stacking model to make predictions1\n",
        "    probability = stacking_model.predict_proba(user_input_scaled)[0][1]\n",
        "    return probability\n",
        "\n",
        "# Call the function to get the predicted probability\n",
        "predicted_probability = predict_cirrhosis_probability()\n",
        "print(\"Predicted Probability of Liver Cirrhosis:\", predicted_probability)\n",
        "print(\"If the value of predicted probability is less than 0.1204 then liver cirrhosis doesnt exists otherwise it does\")"
      ]
    },
    {
      "cell_type": "code",
      "execution_count": null,
      "metadata": {
        "colab": {
          "base_uri": "https://localhost:8080/"
        },
        "id": "EJrM9cLF5TlS",
        "outputId": "3a6e69ed-446a-4385-9b2f-82ea15536d46"
      },
      "outputs": [
        {
          "data": {
            "text/plain": [
              "134"
            ]
          },
          "execution_count": 12,
          "metadata": {},
          "output_type": "execute_result"
        }
      ],
      "source": [
        "134"
      ]
    },
    {
      "cell_type": "code",
      "execution_count": null,
      "metadata": {
        "colab": {
          "base_uri": "https://localhost:8080/"
        },
        "id": "TOc_n_hQEaYr",
        "outputId": "9155b9d6-6767-401e-cc31-5fc486a0f6d7"
      },
      "outputs": [
        {
          "data": {
            "text/plain": [
              "['trained_model.joblib']"
            ]
          },
          "execution_count": 13,
          "metadata": {},
          "output_type": "execute_result"
        }
      ],
      "source": [
        "import joblib\n",
        "model=stacking_model\n",
        "model_filename=\"trained_model.joblib\"\n",
        "joblib.dump(model, model_filename)"
      ]
    },
    {
      "cell_type": "code",
      "execution_count": null,
      "metadata": {
        "id": "T2rK-E4RfqSc"
      },
      "outputs": [],
      "source": [
        "loaded_model = joblib.load(\"trained_model.joblib\")"
      ]
    },
    {
      "cell_type": "code",
      "execution_count": null,
      "metadata": {
        "colab": {
          "base_uri": "https://localhost:8080/"
        },
        "id": "2u5DoBpdgI0D",
        "outputId": "e85272c7-bed1-4033-a48c-e4cb92fc4d99"
      },
      "outputs": [
        {
          "name": "stdout",
          "output_type": "stream",
          "text": [
            "Enter age: 22\n",
            "Enter gender (0 for female, 1 for male): 1\n",
            "Enter Total Bilirubin: 1\n",
            "Enter Direct Bilirubin: 1\n",
            "Enter Alkphos Alkaline Phosphotase: 1\n",
            "Enter Sgpt Alamine Aminotransferase: 1\n",
            "Enter Sgot Aspartate Aminotransferase: 1\n",
            "Enter TP Total Protiens: 1\n",
            "Enter ALB Albumin: 1\n",
            "Enter A/G Ratio Albumin and Globulin Ratio: 1\n",
            "Predicted Probability of Liver Cirrhosis: 0.12620090320759636\n",
            "If the value of predicted probability is less than 0.1204 then liver cirrhosis doesnt exists otherwise it does\n"
          ]
        },
        {
          "name": "stderr",
          "output_type": "stream",
          "text": [
            "/usr/local/lib/python3.10/dist-packages/sklearn/base.py:464: UserWarning: X does not have valid feature names, but PolynomialFeatures was fitted with feature names\n",
            "  warnings.warn(\n"
          ]
        }
      ],
      "source": [
        "# Define a function to get user input and make predictions\n",
        "def predict_cirrhosis_probability():\n",
        " #defining the features of the dataset\n",
        "    age = float(input(\"Enter age: \"))\n",
        "    gender = int(input(\"Enter gender (0 for female, 1 for male): \"))\n",
        "    total_bilirubin = float(input(\"Enter Total Bilirubin: \"))\n",
        "    direct_bilirubin = float(input(\"Enter Direct Bilirubin: \"))\n",
        "    alkaline_phosphotase = int(input(\"Enter Alkphos Alkaline Phosphotase: \"))\n",
        "    alamine_aminotransferase = int(input(\"Enter Sgpt Alamine Aminotransferase: \"))\n",
        "    aspartate_aminotransferase = int(input(\"Enter Sgot Aspartate Aminotransferase: \"))\n",
        "    total_proteins = float(input(\"Enter TP Total Protiens: \"))\n",
        "    albumin = float(input(\"Enter ALB Albumin: \"))\n",
        "    albumin_globulin_ratio = float(input(\"Enter A/G Ratio Albumin and Globulin Ratio: \"))\n",
        "\n",
        "    # Preprocess the user input as done during training\n",
        "    user_input = np.array([[age, gender, total_bilirubin, direct_bilirubin, alkaline_phosphotase,\n",
        "                            alamine_aminotransferase, aspartate_aminotransferase, total_proteins,\n",
        "                            albumin, albumin_globulin_ratio]])\n",
        "        #['AGE','GENDER','TB(Total Bilirubin)','DB(Direct Bilirubin)','Alkphos Alkaline Phosphotase','Sgpt  Alamine Aminotransferase','Sgot Aspartate Aminotransferase','TP Total Protiens','ALB Albumin','A/G Ratio Albumin and Globulin Ratio'])\n",
        "    user_input_poly = poly.transform(user_input)\n",
        "    user_input_scaled = scaler.transform(user_input_poly)\n",
        "\n",
        "    # Use the trained stacking model to make predictions1\n",
        "    probability = loaded_model.predict_proba(user_input_scaled)[0][1]\n",
        "    return probability\n",
        "\n",
        "# Call the function to get the predicted probability\n",
        "predicted_probability = predict_cirrhosis_probability()\n",
        "print(\"Predicted Probability of Liver Cirrhosis:\", predicted_probability)\n",
        "print(\"If the value of predicted probability is less than 0.1204 then liver cirrhosis doesnt exists otherwise it does\")"
      ]
    },
    {
      "cell_type": "code",
      "execution_count": null,
      "metadata": {
        "colab": {
          "base_uri": "https://localhost:8080/"
        },
        "id": "jaq0MDh1zqRr",
        "outputId": "f5c40f72-f6b8-463e-da7a-0c93c3aac01d"
      },
      "outputs": [
        {
          "name": "stdout",
          "output_type": "stream",
          "text": [
            "Requirement already satisfied: scikit-learn in /usr/local/lib/python3.10/dist-packages (1.3.0)\n",
            "Requirement already satisfied: numpy>=1.17.3 in /usr/local/lib/python3.10/dist-packages (from scikit-learn) (1.23.5)\n",
            "Requirement already satisfied: scipy>=1.5.0 in /usr/local/lib/python3.10/dist-packages (from scikit-learn) (1.10.1)\n",
            "Requirement already satisfied: joblib>=1.1.1 in /usr/local/lib/python3.10/dist-packages (from scikit-learn) (1.3.2)\n",
            "Requirement already satisfied: threadpoolctl>=2.0.0 in /usr/local/lib/python3.10/dist-packages (from scikit-learn) (3.2.0)\n"
          ]
        }
      ],
      "source": [
        "pip install --upgrade sciki1t-learn"
      ]
    },
    {
      "cell_type": "code",
      "execution_count": 1,
      "metadata": {},
      "outputs": [
        {
          "name": "stdout",
          "output_type": "stream",
          "text": [
            "Accuracy: 0.764367816091954\n"
          ]
        },
        {
          "data": {
            "text/plain": [
              "['minmax_scaler.pkl']"
            ]
          },
          "execution_count": 1,
          "metadata": {},
          "output_type": "execute_result"
        }
      ],
      "source": [
        "import numpy as np\n",
        "import pandas as pd\n",
        "from sklearn.preprocessing import PolynomialFeatures, StandardScaler, MinMaxScaler, LabelEncoder\n",
        "from sklearn.model_selection import train_test_split\n",
        "from sklearn.linear_model import LogisticRegression\n",
        "from sklearn.svm import SVC\n",
        "from sklearn.ensemble import GradientBoostingClassifier, StackingClassifier\n",
        "from sklearn.tree import DecisionTreeClassifier\n",
        "from sklearn.metrics import accuracy_score\n",
        "import joblib\n",
        "\n",
        "# Load and clean the data\n",
        "df = pd.read_csv(\"Liver cirrhosis UCI Dataset.csv\")\n",
        "df = df.dropna(axis=0, how=\"any\")\n",
        "\n",
        "# Encode categorical variables\n",
        "label_encoder = LabelEncoder()\n",
        "df['GENDER'] = label_encoder.fit_transform(df['GENDER'])\n",
        "\n",
        "# Prepare features and target\n",
        "X = df.drop(['Selector field used to split the data into two sets (labeled by the experts)'], axis=1)\n",
        "y = label_encoder.fit_transform(df['Selector field used to split the data into two sets (labeled by the experts)'])\n",
        "\n",
        "# Scale features using MinMaxScaler\n",
        "minmax_scaler = MinMaxScaler()\n",
        "X_scaled = minmax_scaler.fit_transform(X)\n",
        "\n",
        "# Apply polynomial features\n",
        "poly = PolynomialFeatures(degree=1)\n",
        "X_poly = poly.fit_transform(X_scaled)\n",
        "\n",
        "# Standard scaling\n",
        "scaler = StandardScaler()\n",
        "X_final = scaler.fit_transform(X_poly)\n",
        "\n",
        "# Train-test split\n",
        "X_train, X_test, y_train, y_test = train_test_split(X_final, y, test_size=0.3, random_state=42)\n",
        "\n",
        "# Define base models\n",
        "model = LogisticRegression(C=1, max_iter=100000, solver='liblinear')\n",
        "svm_model = SVC(C=100, kernel='rbf', probability=True)\n",
        "gb_model = GradientBoostingClassifier(max_depth=2, min_samples_split=4, min_samples_leaf=1, max_features='sqrt')\n",
        "dt_model = DecisionTreeClassifier(max_depth=2, min_samples_split=4, min_samples_leaf=1)\n",
        "\n",
        "# Stacking model\n",
        "stacking_model = StackingClassifier(\n",
        "    estimators=[('logistic', model), ('svm', svm_model), ('gb', gb_model), ('dt', dt_model)],\n",
        "    final_estimator=model\n",
        ")\n",
        "\n",
        "# Train model\n",
        "stacking_model.fit(X_train, y_train)\n",
        "\n",
        "# Evaluate\n",
        "y_pred = stacking_model.predict(X_test)\n",
        "print(f\"Accuracy: {accuracy_score(y_test, y_pred)}\")\n",
        "\n",
        "# Save everything\n",
        "joblib.dump(stacking_model, \"cirrhosis_model.pkl\")\n",
        "joblib.dump(scaler, \"scaler.pkl\")\n",
        "joblib.dump(poly, \"poly.pkl\")\n",
        "joblib.dump(minmax_scaler, \"minmax_scaler.pkl\")\n"
      ]
    }
  ],
  "metadata": {
    "colab": {
      "provenance": []
    },
    "kernelspec": {
      "display_name": "Python 3.11.4 64-bit",
      "language": "python",
      "name": "python3"
    },
    "language_info": {
      "codemirror_mode": {
        "name": "ipython",
        "version": 3
      },
      "file_extension": ".py",
      "mimetype": "text/x-python",
      "name": "python",
      "nbconvert_exporter": "python",
      "pygments_lexer": "ipython3",
      "version": "3.11.4"
    },
    "vscode": {
      "interpreter": {
        "hash": "5238573367df39f7286bb46f9ff5f08f63a01a80960060ce41e3c79b190280fa"
      }
    }
  },
  "nbformat": 4,
  "nbformat_minor": 0
}
